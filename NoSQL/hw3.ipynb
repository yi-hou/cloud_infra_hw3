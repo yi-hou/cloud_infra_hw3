{
 "cells": [
  {
   "cell_type": "code",
   "execution_count": 2,
   "id": "5fcb20f0-26e4-4421-a5ca-712a42f1f071",
   "metadata": {},
   "outputs": [
    {
     "name": "stdout",
     "output_type": "stream",
     "text": [
      "Requirement already satisfied: boto3 in /usr/local/lib/python3.9/site-packages (1.19.0)\n",
      "Requirement already satisfied: s3transfer<0.6.0,>=0.5.0 in /usr/local/lib/python3.9/site-packages (from boto3) (0.5.0)\n",
      "Requirement already satisfied: jmespath<1.0.0,>=0.7.1 in /usr/local/lib/python3.9/site-packages (from boto3) (0.10.0)\n",
      "Requirement already satisfied: botocore<1.23.0,>=1.22.0 in /usr/local/lib/python3.9/site-packages (from boto3) (1.22.0)\n",
      "Requirement already satisfied: urllib3<1.27,>=1.25.4 in /usr/local/lib/python3.9/site-packages (from botocore<1.23.0,>=1.22.0->boto3) (1.26.7)\n",
      "Requirement already satisfied: python-dateutil<3.0.0,>=2.1 in /usr/local/lib/python3.9/site-packages (from botocore<1.23.0,>=1.22.0->boto3) (2.8.2)\n",
      "Requirement already satisfied: six>=1.5 in /usr/local/Cellar/protobuf/3.14.0/libexec/lib/python3.9/site-packages (from python-dateutil<3.0.0,>=2.1->botocore<1.23.0,>=1.22.0->boto3) (1.15.0)\n",
      "\u001b[33mWARNING: You are using pip version 21.0.1; however, version 21.3 is available.\n",
      "You should consider upgrading via the '/usr/local/opt/python@3.9/bin/python3.9 -m pip install --upgrade pip' command.\u001b[0m\n",
      "Note: you may need to restart the kernel to use updated packages.\n"
     ]
    }
   ],
   "source": [
    "pip install boto3"
   ]
  },
  {
   "cell_type": "code",
   "execution_count": 3,
   "id": "6dad9cf3-1904-4f82-be68-5cd944b5eddf",
   "metadata": {},
   "outputs": [],
   "source": [
    "import boto3"
   ]
  },
  {
   "cell_type": "code",
   "execution_count": 10,
   "id": "2eed834f-4ecf-4d7d-836d-2ca651452c5f",
   "metadata": {},
   "outputs": [],
   "source": [
    "s3 = boto3.resource('s3',\n",
    "aws_access_key_id='xxxx',\n",
    "aws_secret_access_key='xxxx' )\n"
   ]
  },
  {
   "cell_type": "code",
   "execution_count": 20,
   "id": "2c1e4f9a-6590-44fa-abb8-3115af9cb49c",
   "metadata": {},
   "outputs": [],
   "source": [
    "try:\n",
    "    s3.create_bucket(Bucket='honeymonkeybucket', CreateBucketConfiguration={\n",
    "        'LocationConstraint': 'us-east-2'}) \n",
    "except Exception as e:\n",
    "    print (e)"
   ]
  },
  {
   "cell_type": "code",
   "execution_count": 21,
   "id": "1c9da93c-1069-466e-9c5d-f01d356a5503",
   "metadata": {},
   "outputs": [],
   "source": [
    "bucket = s3.Bucket(\"honeymonkeybucket\")"
   ]
  },
  {
   "cell_type": "code",
   "execution_count": 22,
   "id": "3262c68e-243d-4e17-9f85-c702d06ab795",
   "metadata": {},
   "outputs": [
    {
     "data": {
      "text/plain": [
       "{'ResponseMetadata': {'RequestId': '3CKPDN0KJZ7CVDWM',\n",
       "  'HostId': 'P0gEU5+0c4ip9r3bHpcSPgU7Ln7mF22IiQ3n6PDYSHUwDmsrT62H40foGbI3gzS5KCn6LEOMW1Y=',\n",
       "  'HTTPStatusCode': 200,\n",
       "  'HTTPHeaders': {'x-amz-id-2': 'P0gEU5+0c4ip9r3bHpcSPgU7Ln7mF22IiQ3n6PDYSHUwDmsrT62H40foGbI3gzS5KCn6LEOMW1Y=',\n",
       "   'x-amz-request-id': '3CKPDN0KJZ7CVDWM',\n",
       "   'date': 'Thu, 21 Oct 2021 03:56:01 GMT',\n",
       "   'server': 'AmazonS3',\n",
       "   'content-length': '0'},\n",
       "  'RetryAttempts': 1}}"
      ]
     },
     "execution_count": 22,
     "metadata": {},
     "output_type": "execute_result"
    }
   ],
   "source": [
    "bucket.Acl().put(ACL='public-read')"
   ]
  },
  {
   "cell_type": "code",
   "execution_count": 24,
   "id": "3c0c99f8-7a72-40bc-80a2-f51c3f8676c5",
   "metadata": {},
   "outputs": [],
   "source": [
    "body = open('/Users/apple/Documents/cloud infrastructufe/hw3/exp1.csv', 'rb')"
   ]
  },
  {
   "cell_type": "code",
   "execution_count": 25,
   "id": "eb1ec29c-2d18-4259-9f2f-f141d204bda7",
   "metadata": {},
   "outputs": [],
   "source": [
    "o = s3.Object('honeymonkeybucket', 'test').put(Body=body )"
   ]
  },
  {
   "cell_type": "code",
   "execution_count": 26,
   "id": "3ce1f2e2-af57-48f0-b2b2-57bf95c55e08",
   "metadata": {},
   "outputs": [
    {
     "data": {
      "text/plain": [
       "{'ResponseMetadata': {'RequestId': '2RGETMHHSEVNS96G',\n",
       "  'HostId': 'OiUTDBQSDdQsHxNvDVlWlT0JKHU5I/zxtn1nS+OHfmCBHzODq4ULSQCBxPo7ZQ6fjvapMFVsWCM=',\n",
       "  'HTTPStatusCode': 200,\n",
       "  'HTTPHeaders': {'x-amz-id-2': 'OiUTDBQSDdQsHxNvDVlWlT0JKHU5I/zxtn1nS+OHfmCBHzODq4ULSQCBxPo7ZQ6fjvapMFVsWCM=',\n",
       "   'x-amz-request-id': '2RGETMHHSEVNS96G',\n",
       "   'date': 'Thu, 21 Oct 2021 03:57:40 GMT',\n",
       "   'server': 'AmazonS3',\n",
       "   'content-length': '0'},\n",
       "  'RetryAttempts': 0}}"
      ]
     },
     "execution_count": 26,
     "metadata": {},
     "output_type": "execute_result"
    }
   ],
   "source": [
    "s3.Object('honeymonkeybucket', 'test').Acl().put(ACL='public-read')"
   ]
  },
  {
   "cell_type": "code",
   "execution_count": 27,
   "id": "7a3cbd80-91f2-4b20-a80c-98455327faf9",
   "metadata": {},
   "outputs": [],
   "source": [
    "dyndb = boto3.resource('dynamodb',\n",
    "    region_name='us-east-2', \n",
    "    aws_access_key_id='xxxxx', \n",
    "    aws_secret_access_key='xxxxxx'\n",
    ")"
   ]
  },
  {
   "cell_type": "code",
   "execution_count": 28,
   "id": "24051a9b-b3c8-4179-bb8a-74fdbef2422c",
   "metadata": {},
   "outputs": [],
   "source": [
    "try:\n",
    "    table = dyndb.create_table(\n",
    "    TableName='DataTable',\n",
    "    KeySchema=[\n",
    "        {\n",
    "            'AttributeName': 'Id',\n",
    "            'KeyType': 'HASH'\n",
    "        }, \n",
    "        {\n",
    "            'AttributeName': 'Temp',\n",
    "            'KeyType': 'RANGE'\n",
    "        }\n",
    "    ],\n",
    "    AttributeDefinitions=[\n",
    "        {\n",
    "            'AttributeName': 'Id',\n",
    "            'AttributeType': 'S'\n",
    "        }, \n",
    "        {\n",
    "            'AttributeName': 'Temp',\n",
    "            'AttributeType': 'S'\n",
    "            },\n",
    "    ],\n",
    "    ProvisionedThroughput={\n",
    "        'ReadCapacityUnits': 5,\n",
    "        'WriteCapacityUnits': 5\n",
    "    }\n",
    ")\n",
    "except Exception as e:\n",
    "    print (e)\n",
    "    #if there is an exception, the table may already exist.\n",
    "    table = dyndb.Table(\"DataTable\")"
   ]
  },
  {
   "cell_type": "code",
   "execution_count": 29,
   "id": "28db3d65-8b7e-4388-86fc-d679327f3b13",
   "metadata": {},
   "outputs": [],
   "source": [
    "table.meta.client.get_waiter('table_exists').wait(TableName='DataTable')"
   ]
  },
  {
   "cell_type": "code",
   "execution_count": 30,
   "id": "36016df2-d162-43eb-807b-2e587b378656",
   "metadata": {},
   "outputs": [
    {
     "name": "stdout",
     "output_type": "stream",
     "text": [
      "0\n"
     ]
    }
   ],
   "source": [
    "print(table.item_count)"
   ]
  },
  {
   "cell_type": "code",
   "execution_count": 31,
   "id": "90469238-d131-4bcd-a1db-4e698c2018ec",
   "metadata": {},
   "outputs": [],
   "source": [
    "import csv"
   ]
  },
  {
   "cell_type": "code",
   "execution_count": 46,
   "id": "c34bc886-4f28-4982-b995-5c0efbb029e1",
   "metadata": {},
   "outputs": [
    {
     "name": "stdout",
     "output_type": "stream",
     "text": [
      "['1', '-1', '52', '3.4', 'exp1.csv']\n",
      "['2', '-2', '52.1', '3.4', 'exp2.csv']\n",
      "['3', '-2.93', '57.1', '3.7', 'exp3.csv']\n"
     ]
    }
   ],
   "source": [
    "with open('/Users/apple/Documents/cloud infrastructufe/hw3/experiments.csv', 'rt') as csvfile: \n",
    "    csvf = csv.reader(csvfile, delimiter=',', quotechar='|')\n",
    "    for item in csvf:\n",
    "        if item[0] != '\\ufeffId':\n",
    "            print(item)\n",
    "    body = open('/Users/apple/Documents/cloud infrastructufe/hw3/'+item[4], 'rb') \n",
    "    s3.Object('honeymonkeybucket', item[4]).put(Body=body )\n",
    "    md = s3.Object('honeymonkeybucket', item[4]).Acl().put(ACL='public-read')\n",
    "    url = \" https://s3-us-east-2.amazonaws.com/honeymonkeybucket/\"+item[4] \n",
    "    metadata_item = {'Id': item[0], 'Temp': item[1],\n",
    "        'Conductivity' : item[2], 'Concentration' : item[3], 'url':url}\n",
    "    try: \n",
    "        table.put_item(Item=metadata_item)\n",
    "    except:\n",
    "        print(\"item may already be there or another failure\")"
   ]
  },
  {
   "cell_type": "code",
   "execution_count": 48,
   "id": "235cdf95-1186-4d74-a16c-1fc4e4abe738",
   "metadata": {},
   "outputs": [
    {
     "name": "stdout",
     "output_type": "stream",
     "text": [
      "{'Concentration': '3.7', 'Temp': '-2.93', 'Id': '3', 'url': ' https://s3-us-east-2.amazonaws.com/honeymonkeybucket/exp3.csv', 'Conductivity': '57.1'}\n"
     ]
    }
   ],
   "source": [
    "response = table.get_item(\n",
    "    Key={\n",
    "        'Id': '3',\n",
    "        'Temp': '-2.93'\n",
    "    }\n",
    ")\n",
    "item = response['Item'] \n",
    "print(item)"
   ]
  },
  {
   "cell_type": "code",
   "execution_count": 49,
   "id": "fe2e33a3-082f-453f-b847-07fe594770c2",
   "metadata": {},
   "outputs": [
    {
     "data": {
      "text/plain": [
       "{'Item': {'Concentration': '3.7',\n",
       "  'Temp': '-2.93',\n",
       "  'Id': '3',\n",
       "  'url': ' https://s3-us-east-2.amazonaws.com/honeymonkeybucket/exp3.csv',\n",
       "  'Conductivity': '57.1'},\n",
       " 'ResponseMetadata': {'RequestId': 'EO044030QIE3GGK99UQ78J2217VV4KQNSO5AEMVJF66Q9ASUAAJG',\n",
       "  'HTTPStatusCode': 200,\n",
       "  'HTTPHeaders': {'server': 'Server',\n",
       "   'date': 'Thu, 21 Oct 2021 04:21:24 GMT',\n",
       "   'content-type': 'application/x-amz-json-1.0',\n",
       "   'content-length': '179',\n",
       "   'connection': 'keep-alive',\n",
       "   'x-amzn-requestid': 'EO044030QIE3GGK99UQ78J2217VV4KQNSO5AEMVJF66Q9ASUAAJG',\n",
       "   'x-amz-crc32': '2062856670'},\n",
       "  'RetryAttempts': 0}}"
      ]
     },
     "execution_count": 49,
     "metadata": {},
     "output_type": "execute_result"
    }
   ],
   "source": [
    "response"
   ]
  },
  {
   "cell_type": "code",
   "execution_count": null,
   "id": "75cbe436-a825-4673-a379-6fb899daff38",
   "metadata": {},
   "outputs": [],
   "source": []
  }
 ],
 "metadata": {
  "kernelspec": {
   "display_name": "Python 3 (ipykernel)",
   "language": "python",
   "name": "python3"
  },
  "language_info": {
   "codemirror_mode": {
    "name": "ipython",
    "version": 3
   },
   "file_extension": ".py",
   "mimetype": "text/x-python",
   "name": "python",
   "nbconvert_exporter": "python",
   "pygments_lexer": "ipython3",
   "version": "3.9.1"
  }
 },
 "nbformat": 4,
 "nbformat_minor": 5
}
